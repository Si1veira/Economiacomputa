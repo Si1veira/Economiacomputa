{
 "cells": [
  {
   "cell_type": "code",
   "execution_count": null,
   "id": "6884d73b-83b0-4bae-8c87-10bc82a95284",
   "metadata": {},
   "outputs": [],
   "source": [
    "# Codificação do programa calculo salario\n",
    "\n",
    "## Requisitos\n",
    "\n",
    "O programa deve perguntar o numero de horas trabalhadas, calcular e imprimir na tela o valor do salario bruto,\n",
    "do salario lıquido e do total de descontos, sabendo que o desconto do imposto e 30% e que o valor da hora-aula e R$ 40,00."
   ]
  },
  {
   "cell_type": "code",
   "execution_count": 16,
   "id": "e811c578-008e-40dd-8b15-3e6c42f7291c",
   "metadata": {},
   "outputs": [
    {
     "name": "stdin",
     "output_type": "stream",
     "text": [
      "Quantas horas você trabalha? 40\n"
     ]
    },
    {
     "name": "stdout",
     "output_type": "stream",
     "text": [
      "\n",
      "O seu salário bruto é de 1600 reais\n",
      "\n",
      "O seu salário líquido é de 1120.0 reais\n",
      "\n",
      "O total de descontos é de 480.0 reais\n"
     ]
    }
   ],
   "source": [
    "# Alocação de memoria\n",
    "\n",
    "horas_trabalhadas: int = 0\n",
    "\n",
    "x = horas_trabalhadas\n",
    "\n",
    "# Entrada de dados\n",
    "\n",
    "x = int(input(\"Quantas horas você trabalha?\"))\n",
    "\n",
    "# Processamento de dados\n",
    "\n",
    "Salario_Bruto = x*40\n",
    "\n",
    "Salario_Liquido = Salario_Bruto*0.70\n",
    "\n",
    "Descontos = Salario_Bruto*0.30\n",
    "\n",
    "#Saida de dados\n",
    "\n",
    "print(f'\\nO seu salário bruto é de {Salario_Bruto} reais')\n",
    "\n",
    "print(f'\\nO seu salário líquido é de {Salario_Liquido} reais')\n",
    "\n",
    "print(f'\\nO total de descontos é de {Descontos} reais')"
   ]
  }
 ],
 "metadata": {
  "kernelspec": {
   "display_name": "Python 3 (ipykernel)",
   "language": "python",
   "name": "python3"
  },
  "language_info": {
   "codemirror_mode": {
    "name": "ipython",
    "version": 3
   },
   "file_extension": ".py",
   "mimetype": "text/x-python",
   "name": "python",
   "nbconvert_exporter": "python",
   "pygments_lexer": "ipython3",
   "version": "3.11.7"
  }
 },
 "nbformat": 4,
 "nbformat_minor": 5
}
